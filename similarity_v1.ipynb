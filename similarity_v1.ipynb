{
  "nbformat": 4,
  "nbformat_minor": 0,
  "metadata": {
    "colab": {
      "provenance": [],
      "authorship_tag": "ABX9TyNWphOPmYKBld1mXvf6cihQ",
      "include_colab_link": true
    },
    "kernelspec": {
      "name": "python3",
      "display_name": "Python 3"
    },
    "language_info": {
      "name": "python"
    }
  },
  "cells": [
    {
      "cell_type": "markdown",
      "metadata": {
        "id": "view-in-github",
        "colab_type": "text"
      },
      "source": [
        "<a href=\"https://colab.research.google.com/github/RiccardoRubini93/ML-AI-cookbook/blob/main/similarity_v1.ipynb\" target=\"_parent\"><img src=\"https://colab.research.google.com/assets/colab-badge.svg\" alt=\"Open In Colab\"/></a>"
      ]
    },
    {
      "cell_type": "code",
      "execution_count": null,
      "metadata": {
        "id": "Yzw8Kscvc9Ld"
      },
      "outputs": [],
      "source": [
        "!pip install openpyxl\n",
        "!pip install spacy\n",
        "!pip install nltk"
      ]
    },
    {
      "cell_type": "code",
      "source": [
        "import pandas as pd\n",
        "import spacy\n",
        "import nltk\n",
        "from nltk.tokenize import word_tokenize\n",
        "from nltk.corpus import stopwords\n",
        "from sklearn.feature_extraction.text import TfidfVectorizer\n",
        "from sklearn.metrics.pairwise import cosine_similarity\n",
        "from google.colab import files"
      ],
      "metadata": {
        "id": "N0FEhgQ1dHl2"
      },
      "execution_count": 2,
      "outputs": []
    },
    {
      "cell_type": "code",
      "source": [
        "business_glossary_df = pd.read_csv('BUSINESS_GLOSSARY.csv',sep=';')\n",
        "interfacce_df = pd.read_csv('Interfacce_normalized.csv',sep=';')"
      ],
      "metadata": {
        "id": "ZqcYXY08dYMY"
      },
      "execution_count": 4,
      "outputs": []
    },
    {
      "cell_type": "code",
      "source": [],
      "metadata": {
        "id": "H71e0CPRfUQo"
      },
      "execution_count": null,
      "outputs": []
    },
    {
      "cell_type": "code",
      "source": [
        "nltk.download('punkt')\n",
        "nltk.download('stopwords')\n",
        "\n",
        "stop_words = set(stopwords.words('italian'))\n",
        "\n",
        "def tokenize_and_remove_stopwords(text):\n",
        "    tokens = word_tokenize(text)\n",
        "    tokens = [word.lower() for word in tokens if word.isalnum() and word.lower() not in stop_words]\n",
        "    return ' '.join(tokens)\n",
        "\n",
        "business_glossary_df['BUSINESS TERM'] = business_glossary_df['BUSINESS TERM'].apply(tokenize_and_remove_stopwords)\n",
        "interfacce_df['CAMPO FISICO'] = interfacce_df['CAMPO FISICO'].apply(tokenize_and_remove_stopwords)\n",
        "#interfacce_df['DESCRIZIONE'] = interfacce_df['DESCRIZIONE'].apply(tokenize_and_remove_stopwords)"
      ],
      "metadata": {
        "colab": {
          "base_uri": "https://localhost:8080/"
        },
        "id": "hRWUAXIFdwsk",
        "outputId": "b3befe01-b375-4d55-da3e-4c7ea4fc56c8"
      },
      "execution_count": 9,
      "outputs": [
        {
          "output_type": "stream",
          "name": "stderr",
          "text": [
            "[nltk_data] Downloading package punkt to /root/nltk_data...\n",
            "[nltk_data]   Package punkt is already up-to-date!\n",
            "[nltk_data] Downloading package stopwords to /root/nltk_data...\n",
            "[nltk_data]   Package stopwords is already up-to-date!\n"
          ]
        }
      ]
    },
    {
      "cell_type": "code",
      "source": [
        "tfidf_vectorizer = TfidfVectorizer()\n",
        "tfidf_matrix_business = tfidf_vectorizer.fit_transform(business_glossary_df['BUSINESS TERM'])\n",
        "tfidf_matrix_interfacce = tfidf_vectorizer.transform(interfacce_df['CAMPO FISICO'])"
      ],
      "metadata": {
        "id": "sGkMlIgAd9ry"
      },
      "execution_count": 13,
      "outputs": []
    },
    {
      "cell_type": "code",
      "source": [
        "cosine_similarities = cosine_similarity(tfidf_matrix_interfacce, tfidf_matrix_business)"
      ],
      "metadata": {
        "id": "2Cp4cYr5eDbj"
      },
      "execution_count": 17,
      "outputs": []
    },
    {
      "cell_type": "code",
      "source": [
        "cosine_similarities.shape"
      ],
      "metadata": {
        "colab": {
          "base_uri": "https://localhost:8080/"
        },
        "id": "kSR9qeEpj1rv",
        "outputId": "73452400-cff5-4c93-c34b-0dac1b2aedc7"
      },
      "execution_count": 38,
      "outputs": [
        {
          "output_type": "execute_result",
          "data": {
            "text/plain": [
              "(4455, 2779)"
            ]
          },
          "metadata": {},
          "execution_count": 38
        }
      ]
    },
    {
      "cell_type": "code",
      "source": [
        "results = []\n",
        "for idx, row in enumerate(interfacce_df.iterrows()):\n",
        "  print(idx)\n",
        "  print(row)\n",
        "  similar_business_term_idx = cosine_similarities[idx].argmax()\n",
        "  business_term = business_glossary_df.iloc[similar_business_term_idx]['BUSINESS TERM']\n",
        "  campo_fisico = row[1]['CAMPO FISICO']\n",
        "  results.append((campo_fisico, business_term))"
      ],
      "metadata": {
        "id": "WDxiFCA9eWOG"
      },
      "execution_count": null,
      "outputs": []
    },
    {
      "cell_type": "code",
      "source": [
        "results_df = pd.DataFrame(results, columns=['CAMPO FISICO', 'BUSINESS TERM'])\n",
        "results_df.head()"
      ],
      "metadata": {
        "id": "2iRomVM2efv6"
      },
      "execution_count": null,
      "outputs": []
    },
    {
      "cell_type": "code",
      "source": [
        "#define score: number of recognised terms / total\n",
        "results_df.shape[0]"
      ],
      "metadata": {
        "colab": {
          "base_uri": "https://localhost:8080/"
        },
        "id": "YkjS9-Yte97Y",
        "outputId": "08797f06-2059-4783-aec3-3507a8a024fc"
      },
      "execution_count": 28,
      "outputs": [
        {
          "output_type": "execute_result",
          "data": {
            "text/plain": [
              "4455"
            ]
          },
          "metadata": {},
          "execution_count": 28
        }
      ]
    },
    {
      "cell_type": "code",
      "source": [
        "df = results_df"
      ],
      "metadata": {
        "id": "xNYnAIROjJCY"
      },
      "execution_count": 33,
      "outputs": []
    },
    {
      "cell_type": "code",
      "source": [
        "df_filtered = df[(df['CAMPO FISICO'] != '') & (df['BUSINESS TERM'] != '')]"
      ],
      "metadata": {
        "id": "XdD-3DpriqHW"
      },
      "execution_count": 41,
      "outputs": []
    },
    {
      "cell_type": "code",
      "source": [
        "df_filtered.to_csv('result.csv')"
      ],
      "metadata": {
        "id": "gt-QPp1Uixn6"
      },
      "execution_count": 42,
      "outputs": []
    },
    {
      "cell_type": "code",
      "source": [],
      "metadata": {
        "id": "5r32Myk2j9cQ"
      },
      "execution_count": null,
      "outputs": []
    }
  ]
}