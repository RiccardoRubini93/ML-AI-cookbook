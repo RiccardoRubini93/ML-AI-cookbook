{
  "nbformat": 4,
  "nbformat_minor": 0,
  "metadata": {
    "colab": {
      "provenance": [],
      "include_colab_link": true
    },
    "kernelspec": {
      "name": "python3",
      "display_name": "Python 3"
    },
    "language_info": {
      "name": "python"
    }
  },
  "cells": [
    {
      "cell_type": "markdown",
      "metadata": {
        "id": "view-in-github",
        "colab_type": "text"
      },
      "source": [
        "<a href=\"https://colab.research.google.com/github/RiccardoRubini93/ML-AI-cookbook/blob/main/ContentGPT.ipynb\" target=\"_parent\"><img src=\"https://colab.research.google.com/assets/colab-badge.svg\" alt=\"Open In Colab\"/></a>"
      ]
    },
    {
      "cell_type": "markdown",
      "source": [
        "## Benvenuto in ContentGPT 1.0 by Datapizza 🍕\n",
        "\n",
        "### Questo tool ti permette di creare contenuti nel TUO stile in modo totalmente controllabile, rapido ed economico.\n",
        "\n",
        "### Usalo per creare le bozze dei tuoi contenuti o di quelli aziendali.\n",
        "\n",
        "### Non usarlo per inquinare il web di altra \"spazzatura generata con AI\", per favore :)\n",
        "\n",
        "#### *I prossimi tool li metterò tutti nella nostra newsletter Commit, iscriviti per non perderteli ([esce ogni Martedì](https://datapizza.tech/#newsletter)!)*"
      ],
      "metadata": {
        "id": "yuwZ-lHzmY0A"
      }
    },
    {
      "cell_type": "markdown",
      "source": [
        "**Copia questo notebook nel tuo Drive (qua non puoi modificarlo)**\n",
        "\n",
        "\n",
        "**[Guida su come ottenere la API Key di OpenAI.](https://www.maisieai.com/help/how-to-get-an-openai-api-key-for-chatgpt)**\n",
        "\n",
        "**Installa la libreria OpenAI e `inserisci la tua API Key`.👇**\n"
      ],
      "metadata": {
        "id": "id6H35gr943u"
      }
    },
    {
      "cell_type": "code",
      "source": [
        "# installa la libreria OpenAI\n",
        "!pip install openai\n",
        "\n",
        "from openai import OpenAI\n",
        "import os\n",
        "\n",
        "client = OpenAI(api_key= \"INSERISCI_QUA_LA_API_KEY\")\n",
        "# ESEMPIO\n",
        "# client = OpenAI(api_key=\"sk-N30XG5u787EzeeniNysCXygF2T3BlbkFJiR6boWa55DX1QyE2131ss5Y\")"
      ],
      "metadata": {
        "id": "24fa57MU8hp7"
      },
      "execution_count": null,
      "outputs": []
    },
    {
      "cell_type": "markdown",
      "source": [
        "**👈 Crea una cartella che si chiama \"esempi\" e inserisci 3-4 esempi, come file di testo (ignora la cartella \"sample data\")**\n"
      ],
      "metadata": {
        "id": "GK-C9qRW-Coa"
      }
    },
    {
      "cell_type": "code",
      "source": [
        "# definisco una funziona comoda per leggere gli esempi\n",
        "def carica_esempi(cartella_input):\n",
        "    # Per ogni file nella cartella di input, carica i file txt\n",
        "    # e restituisce una lista di esempi\n",
        "    esempi = []\n",
        "    for file in os.listdir(cartella_input):\n",
        "        if file.endswith('.txt'):\n",
        "          with open(f'{cartella_input}/{file}', 'r', encoding='utf-8') as f:\n",
        "              esempi.append(f.read())\n",
        "    return esempi\n",
        "\n",
        "# deve coinsidere con il nome della cartella \"esempi\"\n",
        "esempi = carica_esempi('esempi')"
      ],
      "metadata": {
        "id": "Lem4s1oD9EHh"
      },
      "execution_count": null,
      "outputs": []
    },
    {
      "cell_type": "markdown",
      "source": [
        "**Personalizza il prompt inserendo queste 3 variabili 👇**"
      ],
      "metadata": {
        "id": "ZrPyhI31EmB6"
      }
    },
    {
      "cell_type": "code",
      "execution_count": null,
      "metadata": {
        "id": "K53ZpHhl7gil"
      },
      "outputs": [],
      "source": [
        "tipo_contenuto = \"Caroselli Instagram\"\n",
        "esperienza_in = \"Data Science e Tecnologia\"\n",
        "numero_slide = 7\n",
        "\n",
        "# costruzione del prompt ( puoi modificarlo )\n",
        "system_message = f\"\"\"Esperto e Attributi Professionali:\n",
        "\n",
        "In questa sessione di addestramento sarai trasformato in ContentGPT, una AI esperta nella creazione di contenuti specializzata nel creare\n",
        "{tipo_contenuto} di valore e accattivanti sul tema {esperienza_in}.\n",
        "\n",
        "Esperienza: 5+ anni di esperienza nella creazione di {tipo_contenuto} accattivanti e informativi su temi legati a {esperienza_in}.\n",
        "Ruoli e Società: Autore freelance di contenuti su {esperienza_in} per pagine di educazione.\n",
        "Competenze: Creazione di contenuti educativi, storytelling coerente, evidenziare punti chiave.\n",
        "Tono e Stile: Il tono dei {tipo_contenuto} deve essere professionale, coinvolgente e accattivante, fornendo informazioni chiare e interessanti.\n",
        "\n",
        "Compito dell'Utente:\n",
        "Il tuo compito è creare un contenuto di {str(numero_slide)}, partendo da un articolo che\n",
        "ti verrà dato in input seguendo le regole fornite e garantendo {tipo_contenuto} in linea con lo stile della pagina.\n",
        "Ti verranno anche forniti gli esempi da cui imparare lo stile e la struttura.\n",
        "\n",
        "Passaggi e Metodo di Valutazione:\n",
        "\n",
        "Regola 1 (Stile):\n",
        "Analisi dello Stile e dei {tipo_contenuto} Esistenti: Esamina i contenuti della pagina per comprendere lo stile e il tipo di informazioni già presenti.\n",
        "Metodo di Valutazione: Identificazione dei temi principali e dello stile predominante.\n",
        "\n",
        "Regola 2 (Coerenza):\n",
        "Creazione di un Contenuto Coerente: Crea un {tipo_contenuto} di almeno {numero_slide} slide con una storia ben strutturata che coinvolga il lettore.\n",
        "Metodo di Valutazione: Coerenza della storia e coinvolgimento del lettore.\n",
        "\n",
        "Regola 3 (Storytelling):\n",
        "Creazione di uno Storytelling Innovativo: Crea una storia coerente e originale, prendendo spunto dall'articolo fornito ma offrendo un'approccio innovativo.\n",
        "Metodo di Valutazione: Coerenza con l'articolo di input e originalità della storia.\n",
        "\n",
        "Regola 4 (So What?):\n",
        "Evidenziazione del So What: Assicurati che ogni slide abbia un so what chiaro e sia rilevante per il lettore.\n",
        "Metodo di Valutazione: Rilevanza del contenuto e impatto sul lettore.\n",
        "\n",
        "Regola 5 (Insightful):\n",
        "Contenuto Accattivante e Non Banale: Assicurati che il contenuto sia interessante, informativo e originale.\n",
        "Metodo di Valutazione: Originalità e coinvolgimento del lettore.\n",
        "\n",
        "Regola 6 (Formato):\n",
        "Slides Brevi ed Efficaci: Scrivi {str(numero_slide)} concise con massimo 50-60 parole e evidenzia punti chiave.\n",
        "Metodo di Valutazione: Concisione e chiarezza del contenuto.\n",
        "\n",
        "Regola 7 (Lingua):\n",
        "Scrittura in Italiano: Tutte le slide devono essere scritte in italiano corretto per il pubblico di riferimento.\n",
        "Metodo di Valutazione: Adesione alla lingua italiana e correttezza grammaticale e sintattica.\n",
        "\n",
        "Regola 8 (Bold):\n",
        "Evidenziazione delle Parole Chiave: Utilizza il bold per evidenziare almeno 3 parole chiave per ogni slide.\n",
        "Metodo di Valutazione: Rilevanza e chiarezza delle parole chiave.\n",
        "\n",
        "Regola 9 (Collegamenti)\n",
        "Collegamento ai Punti Chiave dell'Articolo: Assicurati di toccare i punti chiave dell'articolo nel {tipo_contenuto} e collegarli in modo significativo.\n",
        "Assicurati che i punti vengano toccati in punti diversi del {tipo_contenuto}, integrandoli nei punti più sensati dello storytelling.\n",
        "Metodo di Valutazione: Collegamento accurato e pertinente ai punti chiave dell'articolo.\n",
        "\n",
        "Regola 10 (Titolo Accattivante)\n",
        "Titolo accattivante: crea una prima slide con titolo e sottotitolo accattivanti, che invitino il lettore a leggere. Il titolo deve essere breve e di impatto.\n",
        "Metodo di Valutazione: Attrattività del titolo e potenzialità per rendere il contenuto virale. Il titolo deve essere breve ma di impatto.\n",
        "\n",
        "Obiettivo:\n",
        "L'obiettivo è fornire un {tipo_contenuto} educativo e coinvolgente su data science e tecnologia in linea con lo stile della pagina e il tema dell'articolo fornito.\n",
        "\n",
        "KPIs per ContentGPT:\n",
        "Rilevanza dei {tipo_contenuto}: Rilevanza e coerenza del {tipo_contenuto} con lo stile della pagina e l'articolo di input.\n",
        "Coinvolgimento del Pubblico: Coinvolgimento del pubblico tramite un {tipo_contenuto} coinvolgente e accattivante.\n",
        "Originalità dello Storytelling: Originalità e innovazione nella creazione della storia del {tipo_contenuto}.\n",
        "\n",
        "Introduzione per gli Utenti di questa Nuova Istanza:\n",
        "\n",
        "Benvenuto a ContentGPT! Sono qui per aiutarti a creare un {tipo_contenuto} coinvolgente.\n",
        "Ti guiderò passo dopo passo attraverso la creazione del {tipo_contenuto}, seguendo le regole fornite e garantendo che il contenuto sia in linea con lo stile della pagina.\n",
        "\n",
        "Cominciamo! Per iniziare, inizia a fornirmi i contenuti esempio in modo che possa impararne lo stile.\"\"\"\n",
        "\n"
      ]
    },
    {
      "cell_type": "markdown",
      "source": [
        "👈 **Ora inserisci il testo del testo di cui vuoi parlare. Può essere un articolo, l'abstract di una ricerca, i tuoi appunti. (sempre come file .txt).**\n",
        "\n",
        "**Chiama il file \"input.txt\"**\n",
        "\n",
        "**Ricorda di salvare il file (CTRL S)**"
      ],
      "metadata": {
        "id": "q2miNXbDHeB5"
      }
    },
    {
      "cell_type": "code",
      "source": [
        "# deve coincidere con il nome del file \"input.txt\"\n",
        "nome_file_articolo = \"input.txt\"\n",
        "\n",
        "with open(nome_file_articolo, 'r', encoding='utf-8') as f:\n",
        "  testo_articolo = f.read()"
      ],
      "metadata": {
        "id": "-jd3JB9PH7RV"
      },
      "execution_count": null,
      "outputs": []
    },
    {
      "cell_type": "markdown",
      "source": [
        "**Ora è tutto pronto! Avviando la prossima cella invierai la chiamata API al modello di OpenAI. Di default ho messo GPT4 Turbo, ma [puoi scegliere il modello che preferisci da qua](https://platform.openai.com/docs/models). L'esecuzione dura circa 45 secondi. Il costo dipende dal numero di esempi, con 3-4 esempi (lunghezza carosello IG) costa $ 0.05.**\n",
        "\n",
        "**Puoi anche giocare con il parametro \"[temperature](https://www.coltsteele.com/tips/understanding-openai-s-temperature-parameter)\", più è alto più randomizzi l'output (massimo 2).**\n",
        "\n",
        "**Io lo tengo sempre tra 0.1 - 0.4.**"
      ],
      "metadata": {
        "id": "9zFbU2i7JtzC"
      }
    },
    {
      "cell_type": "code",
      "source": [
        "chat = []\n",
        "\n",
        "# carichiamo tutti gli esempi in una conversazione \"botta e risposta\"\n",
        "for esempio in esempi:\n",
        "    chat.append({\"role\": \"user\", \"content\": esempio})\n",
        "    chat.append({\"role\": \"assistant\", \"content\": \"Ho letto l'esempio e sto imparando.\"})\n",
        "\n",
        "\n",
        "chat.append({\"role\": \"user\", \"content\": \"Perfetto, ora sei pronto. Ti passo l'articolo da trasformare nel nostro stile. Mi raccomando aderisci al formato e alla struttura oltre che allo stile.\"})\n",
        "chat.append({\"role\": \"assistant\", \"content\": \"Ho capito, dammi il testo del contenuto ora.\"})\n",
        "\n",
        "# ora gli diamo l'articolo di input\n",
        "chat.append({\"role\": \"user\", \"content\": testo_articolo})\n",
        "\n",
        "# definiamo la chiamata ad OpenAI\n",
        "def call_openai(chat):\n",
        "    completion = client.chat.completions.create(\n",
        "    model = \"gpt-4-0125-preview\",\n",
        "    messages = chat,\n",
        "    temperature = 0.1)\n",
        "    return completion\n",
        "\n",
        "# inviamo la chiamata e salviamo risultato nella\n",
        "risultato = call_openai(chat)"
      ],
      "metadata": {
        "id": "a1hp7TRuEa_n"
      },
      "execution_count": null,
      "outputs": []
    },
    {
      "cell_type": "code",
      "source": [
        "# stampa a schermo il tuo contenuto :)\n",
        "\n",
        "print(risultato.choices[0].message.content)"
      ],
      "metadata": {
        "colab": {
          "base_uri": "https://localhost:8080/"
        },
        "id": "IyYP6E9JJs1F",
        "outputId": "b282ca38-5dc4-43e9-e0e6-34031f2f4b05"
      },
      "execution_count": null,
      "outputs": [
        {
          "output_type": "stream",
          "name": "stdout",
          "text": [
            "Slide 1\n",
            "\n",
            "**LinkedIn si Lancia nel Mondo dei Giochi**\n",
            "\n",
            "Scopriamo insieme questa novità sorprendente →\n",
            "\n",
            "Slide 2\n",
            "\n",
            "**Che cosa sta succedendo?**\n",
            "\n",
            "LinkedIn, la piattaforma di Microsoft conosciuta per il networking professionale e il reclutamento, con oltre 1 miliardo di utenti, sta esplorando un territorio completamente nuovo: i **giochi**.\n",
            "\n",
            "Slide 3\n",
            "\n",
            "**Un Tuffo nel Puzzle-mania**\n",
            "\n",
            "Seguendo l'onda del successo virale di giochi semplici come Wordle, LinkedIn sta lavorando a una nuova esperienza di gioco. I primi tre titoli in sviluppo sono: “Queens”, “Inference” e “Crossclimb”.\n",
            "\n",
            "Slide 4\n",
            "\n",
            "**Come Funzionerà?**\n",
            "\n",
            "Ricercatori di app hanno scoperto codici che rivelano i piani di LinkedIn. Un'idea in esplorazione è quella di organizzare i punteggi dei giocatori in base al luogo di lavoro, con classifiche aziendali basate su questi punteggi.\n",
            "\n",
            "Slide 5\n",
            "\n",
            "**Parola Ufficiale**\n",
            "\n",
            "Un portavoce di LinkedIn conferma: “Stiamo sperimentando l'aggiunta di giochi basati su puzzle per rendere l'esperienza su LinkedIn più divertente, rafforzare le relazioni e stimolare conversazioni. Rimanete sintonizzati per ulteriori novità!”\n",
            "\n",
            "Slide 6\n",
            "\n",
            "**Il Gigante dei Giochi: Microsoft**\n",
            "\n",
            "Con un fatturato di 7,1 miliardi di dollari nell'ultimo trimestre, superando i ricavi di Windows, il business dei giochi di Microsoft — che include Xbox, Activision Blizzard e ZeniMax — è più forte che mai. Resta da vedere come e se Microsoft sarà coinvolta nel progetto di giochi su LinkedIn.\n",
            "\n",
            "Slide 7\n",
            "\n",
            "**Giochi: Una Mossa Popolare**\n",
            "\n",
            "I giochi, specialmente quelli casual basati su puzzle, sono tra le app più popolari, sia in termini di ricavi che di coinvolgimento. Piattaforme non ludiche hanno da tempo sfruttato questa tendenza per aumentare il proprio traffico, un concetto che precede persino Internet.\n",
            "\n",
            "Slide 8\n",
            "\n",
            "**Esempi nel Settore**\n",
            "\n",
            "Il New York Times, con l'acquisizione di Wordle nel 2022, ha visto milioni di persone continuare a giocare, integrando il gioco in una piattaforma più ampia di puzzle e giochi online. Facebook, d'altra parte, ha chiuso la sua app di gioco autonoma nel 2022 a causa del calo di utilizzo, spostando l'attenzione su esperienze di realtà mista e il business Meta Quest.\n",
            "\n",
            "Slide 9\n",
            "\n",
            "**LinkedIn e l'Innovazione**\n",
            "\n",
            "Negli anni, LinkedIn ha introdotto diverse novità per aumentare l'uso e l'interazione sulla piattaforma, dalla formazione online e lo sviluppo professionale, all'editoria e le notizie, all'introduzione di strumenti video e al coinvolgimento di creatori e influencer.\n",
            "\n",
            "Slide 10\n",
            "\n",
            "**Cosa ne pensi?**\n",
            "\n",
            "Questa mossa di LinkedIn ti entusiasma o ti lascia perplesso? Condivideresti i tuoi punteggi di gioco con i tuoi colleghi?\n"
          ]
        }
      ]
    }
  ]
}