{
  "nbformat": 4,
  "nbformat_minor": 0,
  "metadata": {
    "colab": {
      "provenance": [],
      "authorship_tag": "ABX9TyOyfHuOSa0398bSXZ57dCVu",
      "include_colab_link": true
    },
    "kernelspec": {
      "name": "python3",
      "display_name": "Python 3"
    },
    "language_info": {
      "name": "python"
    }
  },
  "cells": [
    {
      "cell_type": "markdown",
      "metadata": {
        "id": "view-in-github",
        "colab_type": "text"
      },
      "source": [
        "<a href=\"https://colab.research.google.com/github/RiccardoRubini93/ML-AI-cookbook/blob/main/Video_summarisation.ipynb\" target=\"_parent\"><img src=\"https://colab.research.google.com/assets/colab-badge.svg\" alt=\"Open In Colab\"/></a>"
      ]
    },
    {
      "cell_type": "code",
      "execution_count": 1,
      "metadata": {
        "id": "q1VN3mxHyB-A"
      },
      "outputs": [],
      "source": [
        "import re\n",
        "\n",
        "\n",
        "def extract_youtube_video_id(url: str) -> str | None:\n",
        "    \"\"\"\n",
        "    Extract the video ID from the URL\n",
        "    https://www.youtube.com/watch?v=XXX -> XXX\n",
        "    https://youtu.be/XXX -> XXX\n",
        "    \"\"\"\n",
        "    found = re.search(r\"(?:youtu\\.be\\/|watch\\?v=)([\\w-]+)\", url)\n",
        "    if found:\n",
        "        return found.group(1)\n",
        "    return None"
      ]
    },
    {
      "cell_type": "code",
      "source": [
        "pip install youtube_transcript_api"
      ],
      "metadata": {
        "colab": {
          "base_uri": "https://localhost:8080/"
        },
        "id": "c4McfOGzyGdT",
        "outputId": "fc5ccec0-929e-4a5c-87e7-41b38d715db8"
      },
      "execution_count": 2,
      "outputs": [
        {
          "output_type": "stream",
          "name": "stdout",
          "text": [
            "Collecting youtube_transcript_api\n",
            "  Downloading youtube_transcript_api-0.6.2-py3-none-any.whl (24 kB)\n",
            "Requirement already satisfied: requests in /usr/local/lib/python3.10/dist-packages (from youtube_transcript_api) (2.31.0)\n",
            "Requirement already satisfied: charset-normalizer<4,>=2 in /usr/local/lib/python3.10/dist-packages (from requests->youtube_transcript_api) (3.3.2)\n",
            "Requirement already satisfied: idna<4,>=2.5 in /usr/local/lib/python3.10/dist-packages (from requests->youtube_transcript_api) (3.6)\n",
            "Requirement already satisfied: urllib3<3,>=1.21.1 in /usr/local/lib/python3.10/dist-packages (from requests->youtube_transcript_api) (2.0.7)\n",
            "Requirement already satisfied: certifi>=2017.4.17 in /usr/local/lib/python3.10/dist-packages (from requests->youtube_transcript_api) (2023.11.17)\n",
            "Installing collected packages: youtube_transcript_api\n",
            "Successfully installed youtube_transcript_api-0.6.2\n"
          ]
        }
      ]
    },
    {
      "cell_type": "code",
      "source": [
        "from youtube_transcript_api import YouTubeTranscriptApi, TranscriptsDisabled\n",
        "\n",
        "def get_video_transcript(video_id: str,language: str) -> str | None:\n",
        "    \"\"\"\n",
        "    Fetch the transcript of the provided YouTube video\n",
        "    \"\"\"\n",
        "    try:\n",
        "        transcript = YouTubeTranscriptApi.get_transcript(video_id,languages=[language])\n",
        "    except TranscriptsDisabled:\n",
        "        # The video doesn't have a transcript\n",
        "        return None\n",
        "\n",
        "    text = \" \".join([line[\"text\"] for line in transcript])\n",
        "    return text"
      ],
      "metadata": {
        "id": "fqczbCW-yMcT"
      },
      "execution_count": 9,
      "outputs": []
    },
    {
      "cell_type": "code",
      "source": [
        "url = 'https://www.youtube.com/watch?v=pLHjVUEAlAQ'\n",
        "language = 'it'"
      ],
      "metadata": {
        "id": "TmwxDkEByUjx"
      },
      "execution_count": 3,
      "outputs": []
    },
    {
      "cell_type": "code",
      "source": [
        "extract_youtube_video_id(url,language)"
      ],
      "metadata": {
        "colab": {
          "base_uri": "https://localhost:8080/",
          "height": 35
        },
        "id": "iaNG-UoAyetd",
        "outputId": "1c63d63a-5021-45e1-ba93-add6dbf06ead"
      },
      "execution_count": 4,
      "outputs": [
        {
          "output_type": "execute_result",
          "data": {
            "text/plain": [
              "'pLHjVUEAlAQ'"
            ],
            "application/vnd.google.colaboratory.intrinsic+json": {
              "type": "string"
            }
          },
          "metadata": {},
          "execution_count": 4
        }
      ]
    },
    {
      "cell_type": "code",
      "source": [
        "transcr = get_video_transcript(extract_youtube_video_id(url))"
      ],
      "metadata": {
        "id": "9MKnEGnsyhyO"
      },
      "execution_count": 11,
      "outputs": []
    },
    {
      "cell_type": "code",
      "source": [
        "#finsih up the code following this link : https://github.com/daveshap/RecursiveSummarizer, check recursive summarization for large text\n",
        "#"
      ],
      "metadata": {
        "colab": {
          "base_uri": "https://localhost:8080/"
        },
        "id": "GuvV03i4ylIz",
        "outputId": "6e2de62e-3776-4838-e227-8c4abea28c83"
      },
      "execution_count": 12,
      "outputs": [
        {
          "output_type": "execute_result",
          "data": {
            "text/plain": [
              "13757"
            ]
          },
          "metadata": {},
          "execution_count": 12
        }
      ]
    },
    {
      "cell_type": "code",
      "source": [
        "print(transcr)"
      ],
      "metadata": {
        "colab": {
          "base_uri": "https://localhost:8080/"
        },
        "id": "Qm3u4e_XzMq5",
        "outputId": "0b850771-80e1-48e9-d0c9-0c7aa25069c5"
      },
      "execution_count": 14,
      "outputs": [
        {
          "output_type": "stream",
          "name": "stdout",
          "text": [
            "to One Live Come state Tutto bene sono qua che devo fare una coltrà esattamente 17 minuti ma nel frattempo mi torturavo su questa riflessione e Volevo farla qui con voi già che ci siamo almeno non me la perdo sai quando hai quelle idee in testa che però poi ti sfuggono e allora ho pensato Dai che registro così la fisso per me i video Sono un modo per fissare le mie idee e la riflessione è questa qua la generazione mia è venuta su col principio del lavorare duro lavoro duro fatto il mazzo e tiene i risultati che è vero se tu ti fai il mazzo non sei un deficiente e qualche risultato lo otterrai Anche perché tendenzialmente gente che ci ha voglia di lavorare duro non sono tantissimi e per cui il solo fatto di metterti lì sul pezzo e martellare su un argomento ti dà un risultato Maggiore rispetto alla gran parte della popolazione e questo diciamo un concetto Abbastanza abbastanza ovvio però nonostante questo pensavo ho fatto talmente tanti progetti in vita mia iniziative campagne attività e non dico che l'ho affrontate tutte nello stesso modo lavorando duramente lo stesso modo su tutte con lo stesso livello di attenzione o di intelligenza perché nel caso non è che ci siano tante intelligenze però diciamo l'intelligenza al mio Massimo di intelligenza e Però più o meno Insomma l'approccio è sempre stato quello Io ho sempre avuto un approccio così abbastanza tra virgolette militare nelle attività Cioè faccio una cosa decido metto lì e martello su quell'attività però nonostante questo la maggior parte delle attività che ho fatto è fallita miseramente poche attività sono andate bene però per fortuna lo sappiamo che nel business si dice basta avere ragione una volta sola è un po' come nelle relazioni quando tu hai la fortuna di trovare l'anima gemella poi tutte le persone sbagliate e tutte le cazzate che hai fatto nella tua vita come dire Amen insomma cioè L'importante è che ho trovato la mia gemella e sul lavoro la stessa cosa No Zuckerberg fa un'azienda azzecca quella finito Cioè non è che ha poi bisogno di fare altro però Detto questo il ragionamento che facevo era Ma porca paletta Ma com'è però che io ho messo lo stesso approccio su tante iniziative se fosse il lavorare duro che fa la differenza ovviamente tutto il re ha funzionato e invece non è così allora dice no uno deve lavorare duramente deve lavorare don't work hard worksmart se avete presente queste frasette qua in Inghilterra che ci sono però che cosa vuol dire lavorare in modo intelligente cioè Ripeto le iniziative Che faccio cerco di metterci il mio personalissimo livello intelligenza per quello che è la mia cultura conoscenza capacità e allora questa era la riflessione che che facevo ad esempio adesso c'è un'iniziativa che è questa scuola di business gratuita che voglio far partire e L'approccio con quello che è il mio meglio delle attività funzioneranno funzionare Non lo so però nel frattempo guardavo questo questo film questa serie su Netflix non so se la stai guardando quella sui Los Angeles Lakers non sono partito dall'inizio perché volevo andare subito dritto sulla parte di Kobe Bryant e shack per cui sono partito visto tre quattro episodi fatta molto bene ormai Belin tutte stesse serie son fatte di un bene cioè last dance questa sono tutte fatte un po' uguali però sono tutte fatte molto bene È una cosa che mi faceva riflettere era Amedeo le interviste ad alcuni compagni di squadra di Chuck e di Kobe Bryant tanto Un saluto Scusami a alle persone collegate siamo qua in questa live improvvisata Un saluto da Austin Texas dice zaradrum grande Christian De Vita dice hai un capello fantastico Ti piace È meglio pelato Shop punto Marco montemagno.com ne aggiungerò sempre di più mi piace questa questa stupidata di fare queste questo potere pelato pelato is magic non so vorrei metterlo delle frasi così Comunque le aggiungerò sui miei cappellini detto questo la sera è fatta molto bene e guardavo l'intervista alcuni giocatori di basket che giocavano insieme a Sciacca kobbi e l'allenatore era Phil Jackson Quindi abbiamo uno degli allenatori più forti la storia basket Kobe Bryant uno dei giocatori più forti la storia Sciacca uno dei giocatori più forti più dominanti la storia del basket quindi tre supereroi alcuni giocatori nell'intervista io non li ho mai visti ora io sono ignorante di basket però diciamo non sono delle Superstar o non erano delle Superstar senz'altro alcuni non lo erano ugualmente hanno vinto magari tre anelli ci hanno vinto tre campionati tre quattro campionati in base a quando hanno giocato insieme a kobi e sciac diciamo tre titoli li hanno vinti poi gli esperti di basket mi daranno le statistiche esatte la cosa che quindi mi colpiva è che da un lato tu hai dei giocatori molto più forti di quei compagni di squadra che però non hanno vinto un bel niente di niente magari non hanno mai vinto un titolo non so prendiamo il gallo saluto a Danilo se si sta sentendo magari gallo non ha mai vinto un titolo ora scopriamo che galo ha vinto un titolo e questo tema ignoranza gestisca e mi scuso profondamente però immaginiamo che Galgano non abbia mai visto un titolo nella chat Scrivetemi se il gallo avete un titolo se no poi Poi giustamente si arrabbia a quel punto Il gallo probabilmente era più bravo di alcuni dei giocatori che giocavano in quella squadra Los Angeles Lakers tra tra titolari panchinari eccetera in quel gruppo Però quei giocatori hanno vinto il titolo più titoli e uno dice Ma come Ma la regola del lavorare duro lavorare Smart Beh Caspita Perché gli altri non lavorano duro lavoro Smart tutti i giocatori che giocano a squadra di basket e qui torniamo al discorso del mio startne Io lavoro duro su tutte quante però alcune funzionano altre non funziona oppure l'altro giorno parlavo con un mio amico qua Brighton che tra le varie cose fa tutta una serie di investimenti immobiliari poi si parlava dei parcheggi e mi diceva che c'è un parcheggio qua Bright un parcheggio dove metti le macchine Ciao centinaia di posti in macchina Tra automobili parcheggio fa 25 30.000 sterline al giorno ok Ora a cosa curiosa è che un parcheggio ormai è totalmente automatizzato non c'è un essere umano mai dentro un parcheggio se non chi Parcheggia l'auto ma non ci lavora nessuno ci sono delle macchinette all'uscita e all'ingresso una roba per fare la security giusto così per all'ingresso delle del parcheggio il livello qualitativo del parcheggio dal punto di vista estetico è decisamente lacunoso anche perché non ti aspetti che un parcheggio sia un riscatton o un Hotel Sette Stelle giusto a questo punto quell'aggeggio fa 25 30.000 sterline al giorno di fatturato direi Ma quanti utili fa Insomma dipende anche da una serie di fattori però Diciamo che fanno Boh 7 milioni all'anno Non so una roba del genere ecco Ma è giusto per dare un'idea poi avranno tutta una serie di costi basati rispetto a quello che era la nascita noi quel parcheggio saranno costretto loro se erano acquisite non ci sono vari parametri però è solo per dire è una roba molti Million Pound business dove se prendo il proprietario in questo momento i proprietari di quel parcheggio lì lavorano duro lavorano più duro di te che magari fai Non so il pizzaiolo o la hostess Sul volo Easyjet che si fa un mazzo così Non lo so ecco c'è il parametro del lavorare duramente un parametro abbastanza secondario in realtà cioè una volta che tu hai centrato quello che è l'attività giusta da fare ovviamente lavorare duramente allenarsi sicuramente prendiamo l'esempio di Kobe Bryan no saluto a kobi lassù in alto è uno che si faceva un mazzo così Chiaramente si alzava no le 4 al mattino andava cioè lavorava superduramente nel modo più intelligente possibile e quindi diciamo quello lodiamo per scontato però diamo per scontato una volta che tu sai che cosa devi fare e allora qua Arriva la riflessione e la frasetta da bacio Perugina su cui però mi torturo da tutta la mattinata che quella del solito Warren Buffett che dice che spesso quello che conta non è quanto tu Remi duramente o velocemente no Sei lì sulla tua barchette remi remi remi con questa filosofia del del martirio del sacrificio totale che io ho dentro ed è giusta da un certo punto di vista perché se no perdi la dimensione No di quello che è il risultato e di tutte queste menate qua però quello che conta spesso non è quanto tu riesci a remare velocemente le mani Naturalmente quello che conta è Su quale barca sei questo fa un enorme differenza se tu in sostanza hai quella che qua in UK si chiama Opportunity blindness Cioè se tu hai una cecità rispetto alle opportunità e quindi non sei bravo a scegliere la strada giusta l'opportunità giusta del momento la barca giusta a quel punto puoi lavorare duro quanto vuoi puoi remare duro quanto vuoi Ma non vai da nessuna parte sei lì sulla barchetta Remi che piglia dentro in barca acqua e l'altro passa così con la crema solare su mentre è fermo immobile con lo yacht che va a 300 all'ora fino alla storia Tu non hai possibilità di ottenere un risultato Qualunque sia il risultato che vuoi ottenere e quindi questa considerazione non è quanto Remi duramente Ma è su quale barca sei e su quale barca sei Questa la domanda che cercavo di farmi Oggi sto scegliendo le barche giuste perché spesso se vado indietro la mia giustificazione rispetto a tutti i progetti sbagliati che ho fatto e tutti i fallimenti clamorosi che che ho imbroccato in blocco nella stragrande maggioranza dei casi partono da quel problema lì ho scelto la barca sbagliata ho scelto l'opportunità sbagliata pensiamo ai rapporti è evidente no Tu ti sposi scegli la persona sbagliata non la barca metaforicamente sbagliata o tu sei la barca sbagliata quella persona e quella quella crociera affonda affonda velocemente Ecco allora questa è una riflessione che vorrei portarmi a casa in una fasetta che voglio scrivermi qui da qualche parte perché me ne dimentico spesso me ne sono dimenticato spesso e quindi vorrei cercare di evitare di riconnettere l'errore in futuro la domanda giustamente che poi uno Si può porre adesso non so nei commenti se emerge ad esempio alle tecniche Ma lo vedi solo dopo Su quale barca aereo è proprio questa cioè come fai a scegliere meglio e allora questo è il lavoro secondo me è un lavoro prima ancora di mettersi lì a dire lavoro duro lavoro duro è proprio una valutazione una un migliorare la nostra capacità decisionale Come faccio a decidere meglio è una cosa che ho notato è un argomento questo che mi sta caro fatto un sacco di video su questo tema rispetto magari a librico letto persone che ho incontrato roba che ho visto non so ecco esperienze vissute La cosa curiosa è che in genere sono video che non interessano tanto cioè è curioso no come se tu ovviamente dai la ricetta magica tutti che hanno la ricetta magica tutti che sanno come fare boh come fate a sapere sempre quello che non lo so non so se tutti i miei fenomeni quindi questa è la cosa curiosa però la vera domanda che non dovrebbe farsi è Quali sono gli strumenti i metodi le tecniche o le persone che possa avere intorno che mi aiutino a decidere meglio per decidere meglio l'opportunità una volta che io ho deciso nel modo giusto e sono salito sulla barca giusta Quando sono partiti con Google ma avessero chiamato e avessero letto Monti senti lasciamo questa roba qua motore di ricerca dai vuoi lavorare con noi e io avessi detto sì Why Not Poi certo si sono fatti un mazzo così e tutti quelli che sono entrati Figurati in Google all'inizio no come qualunque azienda no ti fai ammazzo così Però come dire il mio Upside si dice così allora il mio livello di ritorno da tutti i punti di vista come dipendente numero uno dell'ipotetico Google sergej Larry è Monte Magnus sarebbe stato enorme questa è la cosa incredibile Il problema è riuscire a capire Su quale barca allora A volte un fatto assolutamente di fortuna cioè di avere un gran culo e ci azzecchi così non perché sei bravo ma perché semplicemente così hai avuto fortuna hai avuto fortuna incontra la persona giusta e hai avuto la fortuna di incontrare il socio giusto Cioè fortuna a volte capita così Però una cosa che noto spesso su di me poi magari tu sei più bravo e siete più bravi Io non lo so però un errore che io faccio spesso è proprio una una stupida decisione cioè un conto è decidere male Un conto è prendere decisioni stupide come gli scacchi sapete che un po' adesso giochicchiato a scacchi mi sono un po' intrippato sono diventato a fare le mie partitine però a volte fai proprio delle decisioni stupide stupide cioè te la potevi chiaramente evitare quella decisione lì e lo fai per mille motivi perché sei stanco perché non c'hai voglia perché c'hai fretta perché vuoi vincere subito e questo è sempre così Qual è quella statistica che diceva No che il 50% delle cause di morte delle persone sono come dire cause dovute a tue decisioni autoindotte decisioni stupide che tu hai fatto però le fai lo stesso decidi di bere come un bastardo perché ti piace così va bene poi avrai delle conseguenze è semplice No è una tua decisione non è che la la presa a qualcun altro la cosa interessante è che basterebbe in quel caso non farlo Non è che devi fare chissà se non lo fai cioè stai fermo e hai già evitato di fare di prendere una decisione che poi ti porta le conseguenze negative Ecco quindi vi lascio su questa frase mi interessano così i vostri commenti le vostre considerazioni però spesso non conta quanto Remi duramente quanto Remi veloce quello che veramente Conte che fa la differenza è su quale barca sei fosse facile capire però è uno sforzo Secondo me che ha senso fare Dai mi fermo qua vado a fare la mia la mia chiamata e come dice Marco Carta citando l'immenso saggio Guzzanti la risposta è dentro di te ma è sbagliata abbraccio a tutti Ciao ciao\n"
          ]
        }
      ]
    },
    {
      "cell_type": "code",
      "source": [],
      "metadata": {
        "id": "0SybzRM-zim5"
      },
      "execution_count": null,
      "outputs": []
    }
  ]
}